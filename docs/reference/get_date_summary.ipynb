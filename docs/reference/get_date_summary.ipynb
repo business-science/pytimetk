{
  "cells": [
    {
      "cell_type": "markdown",
      "metadata": {},
      "source": [
        "# get_date_summary { #pytimetk.get_date_summary }\n",
        "\n",
        "```python\n",
        "get_date_summary(idx, engine='pandas')\n",
        "```\n",
        "\n",
        "Returns a summary of the date-related information, including the number of \n",
        "dates, the time zone, the start date, and the end date.\n",
        "\n",
        "## Parameters {.doc-section .doc-section-parameters}\n",
        "\n",
        "| Name   | Type                          | Description                                                                                                                                                                                                                                                                     | Default    |\n",
        "|--------|-------------------------------|---------------------------------------------------------------------------------------------------------------------------------------------------------------------------------------------------------------------------------------------------------------------------------|------------|\n",
        "| idx    | pd.Series or pd.DateTimeIndex | The parameter `idx` can be either a pandas Series or a pandas  DateTimeIndex. It represents the dates or timestamps for which we want  to generate a summary.                                                                                                                   | _required_ |\n",
        "| engine | str                           | The `engine` parameter is used to specify the engine to use for  generating a date summary. It can be either \"pandas\" or \"polars\".   - The default value is \"pandas\".  - When \"polars\", the function will internally use the `polars` library    for generating a date summary. | `'pandas'` |\n",
        "\n",
        "## Returns {.doc-section .doc-section-returns}\n",
        "\n",
        "| Name   | Type         | Description                                                                                                                                                                                                                                |\n",
        "|--------|--------------|--------------------------------------------------------------------------------------------------------------------------------------------------------------------------------------------------------------------------------------------|\n",
        "|        | pd.DataFrame | A pandas DataFrame with the following columns:  - `date_n`: The number of dates in the index. - `date_tz`: The time zone of the dates in the index. - `date_start`: The first date in the index. - `date_end`: The last date in the index. |\n",
        "\n",
        "## Examples {.doc-section .doc-section-examples}\n"
      ],
      "id": "944e4314"
    },
    {
      "cell_type": "code",
      "metadata": {},
      "source": [
        "import pytimetk as tk\n",
        "import pandas as pd\n",
        "\n",
        "df = tk.load_dataset('bike_sales_sample', parse_dates = ['order_date'])\n",
        "\n",
        "tk.get_date_summary(df['order_date'], engine='pandas')\n",
        "\n",
        "tk.get_date_summary(df['order_date'], engine='polars')"
      ],
      "id": "12258946",
      "execution_count": null,
      "outputs": []
    }
  ],
  "metadata": {
    "kernelspec": {
      "name": "python3",
      "language": "python",
      "display_name": "Python 3 (ipykernel)"
    }
  },
  "nbformat": 4,
  "nbformat_minor": 5
}